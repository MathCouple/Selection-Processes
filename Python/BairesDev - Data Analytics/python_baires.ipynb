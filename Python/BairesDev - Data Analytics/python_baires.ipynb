{
 "cells": [
  {
   "cell_type": "markdown",
   "id": "e48ca575",
   "metadata": {},
   "source": [
    "# First Python Exercise\n",
    "100/100\n",
    "\n",
    "Given a sequence consisting of the caracters '(', ')', '[', ']', '{', '}'. Your task is to determine whether or not the sequence is a valid bracket sequence\n",
    "\n",
    "Valid bracket sequence is defined in the following way:\n",
    "\n",
    "an empty bracket sequence is a valid bracket sequence.\n",
    "if S is a valid bracket sequence, then (s), [s] and {s} are also valid\n",
    "if A and B are valid bracket sequences then AB is also valid"
   ]
  },
  {
   "cell_type": "code",
   "execution_count": 1,
   "id": "058a0062",
   "metadata": {},
   "outputs": [],
   "source": [
    "def solution(sequence):\n",
    "    \n",
    "    #defining an empty stack, to hold open characters\n",
    "    empty_holder = []\n",
    "    \n",
    "    #defining match dictionary CLOSED to helps to find each pair\n",
    "    dicti_chars = {')': '(', ']': '[', '}': '{'}\n",
    "    \n",
    "    #iterate through each element in a given sequence\n",
    "    for char in sequence:\n",
    "        #verify if the currently char is a closed character\n",
    "        if char in dicti_chars:\n",
    "            #verifying if there is open character in the stack\n",
    "            if empty_holder:\n",
    "                #removes the last open character in the stack\n",
    "                topping = empty_holder.pop()\n",
    "            else:\n",
    "                #define a default value, like '#'\n",
    "                topping = \"#\"\n",
    "        \n",
    "            #verifying if the open character in the slack is equals to the currently closed character\n",
    "            if dicti_chars[char] != topping:\n",
    "                return False\n",
    "        else:\n",
    "            #if the currenctly character is not closed\n",
    "            empty_holder.append(char)\n",
    "    \n",
    "    #if the stack is empty, all characters has been closed\n",
    "    return not empty_holder"
   ]
  },
  {
   "cell_type": "code",
   "execution_count": 25,
   "id": "0d5c483a",
   "metadata": {},
   "outputs": [
    {
     "name": "stdout",
     "output_type": "stream",
     "text": [
      "[]{}() True\n",
      "[]() True\n",
      "([]) True\n",
      "([)] False\n",
      ")( False\n"
     ]
    }
   ],
   "source": [
    "print(\"[]{}()\", solution('[]{}()'))\n",
    "print(\"[]()\", solution('[]()'))\n",
    "print(\"([])\", solution('([])'))\n",
    "print(\"([)]\", solution('([)]'))\n",
    "print(\")(\", solution(')('))"
   ]
  },
  {
   "cell_type": "markdown",
   "id": "b1f50ff9",
   "metadata": {},
   "source": [
    "# Second Python Exercise\n",
    "\n",
    "150/150\n",
    "\n",
    "Given two strings a and b, both consisting only of lowercase English letters, your task is to calculate how many strings equal to a can be constructed using only letters from the string b? Each letter can be used only once and in one string only."
   ]
  },
  {
   "cell_type": "code",
   "execution_count": 28,
   "id": "e29227d6",
   "metadata": {},
   "outputs": [],
   "source": [
    "def solution(a, b):\n",
    "    #holding the frequence of each letter in string b in a dictionary\n",
    "    a_count = {char: a.count(char) for char in set(a)}\n",
    "    b_count = {char: b.count(char) for char in set(b)}\n",
    "    \n",
    "    #inicializating the variable with the highest possible number\n",
    "    times_be_constructed = float('inf')\n",
    "    #iterating thourgh each char in string a\n",
    "    for char in a_count:\n",
    "        #if currently char is in b\n",
    "        if char in b_count:\n",
    "            #calculates the minimun frequency of each character between the two strings\n",
    "            times_be_constructed = min(times_be_constructed, b_count[char] // a_count[char])\n",
    "        else:\n",
    "            #if there is any a in b, we can set 0 to return\n",
    "            times_be_constructed = 0\n",
    "            break\n",
    "    \n",
    "    #number of time a can be constructed from b\n",
    "    return times_be_constructed"
   ]
  },
  {
   "cell_type": "code",
   "execution_count": 32,
   "id": "3ea5a682",
   "metadata": {},
   "outputs": [
    {
     "name": "stdout",
     "output_type": "stream",
     "text": [
      "abba in abba 1\n",
      "abba in abbaabba 2\n"
     ]
    }
   ],
   "source": [
    "print(\"abba in abba\", solution('abba', 'abba'))\n",
    "print(\"abba in abbaabba\", solution('abba', 'abbaabba'))"
   ]
  },
  {
   "cell_type": "markdown",
   "id": "d4705e35",
   "metadata": {},
   "source": [
    "# Third Python Exercise\n",
    "\n",
    "\n",
    "You have an array p of points on a Cartesian plane. Find and return the minimum possible Euclidian distance between two points with different indices in p\n",
    "\n",
    "the first one tooks more time than the exercise porpose in MS\n",
    "the second one passed, because of the use of list comprehension\n",
    "\n",
    "Tests passed: 20/31. Execution time limit exceeded on test 21: Program exceeded the execution time limit. Make sure that it completes execution in a few seconds for any possible input.\n",
    "Click the \"Run Tests\" button to see output, console logs, and detailed error messages for sample or custom test cases. This information is hidden when clicking the \"Submit\" button in order to prevent hard-coding solutions to the hidden test cases.\n",
    "Sample tests:\n",
    "16/16\n",
    "Hidden tests:\n",
    "4/15\n",
    "Score:\n",
    "102/200"
   ]
  },
  {
   "cell_type": "code",
   "execution_count": 36,
   "id": "dac193f1",
   "metadata": {},
   "outputs": [],
   "source": [
    "def euclidian_distance_calculus(point1, point2):\n",
    "    x1, y1 = point1\n",
    "    x2, y2 = point2\n",
    "    \n",
    "    #equation to Euclidian Distance in a two dimensional plane, using coordinates of a, b = (x1, y2), (x2, y2)\n",
    "    #sqrt(((x2 - x1)**2 + (y2-y1)**2))\n",
    "    return ((x2 - x1)**2 + (y2-y1)**2)**0.5\n",
    "    \n",
    "def solution(p):\n",
    "    \n",
    "    #inicializating at the highest float possible number\n",
    "    min_distance = float('inf')\n",
    "    \n",
    "    #iterate through the pair i and j\n",
    "    #loop to each i element\n",
    "    for i in range(len(p)):\n",
    "        #for each j as i+1\n",
    "        for j in range(i+1, len(p)):\n",
    "            #distance betwen the current pair\n",
    "            distance = euclidian_distance_calculus(p[i], p[j])\n",
    "            \n",
    "            #min_distance = min(min_distance, distance)\n",
    "            #updating the minimum distance to those points\n",
    "            if distance < min_distance:\n",
    "                min_distance = distance\n",
    "\n",
    "    return min_distance"
   ]
  },
  {
   "cell_type": "code",
   "execution_count": 42,
   "id": "bd5ae142",
   "metadata": {},
   "outputs": [
    {
     "name": "stdout",
     "output_type": "stream",
     "text": [
      "Euclidean distance between two points in a 2 dimensional plane x1 = 2, x2 = 3. y1 = 4, y2 = 5:\n",
      " 2.8284271247461903\n"
     ]
    }
   ],
   "source": [
    "print(\"Euclidean distance between two points in a 2 dimensional plane x1 = 2, x2 = 3. y1 = 4, y2 = 5:\\n\",solution([[2, 3], [4, 5]]))\n"
   ]
  },
  {
   "cell_type": "code",
   "execution_count": null,
   "id": "1cf49db1",
   "metadata": {},
   "outputs": [],
   "source": []
  }
 ],
 "metadata": {
  "kernelspec": {
   "display_name": "Python 3 (ipykernel)",
   "language": "python",
   "name": "python3"
  },
  "language_info": {
   "codemirror_mode": {
    "name": "ipython",
    "version": 3
   },
   "file_extension": ".py",
   "mimetype": "text/x-python",
   "name": "python",
   "nbconvert_exporter": "python",
   "pygments_lexer": "ipython3",
   "version": "3.10.5"
  }
 },
 "nbformat": 4,
 "nbformat_minor": 5
}
